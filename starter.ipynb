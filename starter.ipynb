{
 "cells": [
  {
   "cell_type": "markdown",
   "metadata": {},
   "source": [
    "***\n",
    "LIBRARIES: most required ones\n",
    "***"
   ]
  },
  {
   "cell_type": "code",
   "execution_count": null,
   "metadata": {},
   "outputs": [],
   "source": [
    "from tqdm import tqdm # progress bar\n",
    "import matplotlib.pyplot as plt # plot\n",
    "\n",
    "\n",
    "import torch # pytorch\n",
    "import torch.nn as nn # neural network\n",
    "import torch.optim as optim # optimizer\n",
    "from torchsummary import summary # model summary (architecture)\n",
    "from torch.utils.data import DataLoader, random_split # dataloader, dataset split\n",
    "from torchvision import transforms,datasets # image processing, datasets\n",
    "import torchvision.models as models # pretrained models\n",
    "\n",
    "DATA_PATH = './dataset'"
   ]
  },
  {
   "cell_type": "markdown",
   "metadata": {},
   "source": [
    "***\n",
    "DATA LOADING\n",
    "***"
   ]
  },
  {
   "cell_type": "code",
   "execution_count": null,
   "metadata": {},
   "outputs": [],
   "source": []
  },
  {
   "cell_type": "markdown",
   "metadata": {},
   "source": [
    "***\n",
    "ARCHITECTURE DEFINING\n",
    "***"
   ]
  },
  {
   "cell_type": "markdown",
   "metadata": {},
   "source": []
  },
  {
   "cell_type": "markdown",
   "metadata": {},
   "source": [
    "***\n",
    "OBJECTS: CRITERION, OPTIMIZER, SCHEDULER(maybe)\n",
    "***"
   ]
  },
  {
   "cell_type": "markdown",
   "metadata": {},
   "source": []
  },
  {
   "cell_type": "markdown",
   "metadata": {},
   "source": [
    "***\n",
    "TRAINING AND VALIDATION: Validation not neccessary but recommended\n",
    "***"
   ]
  },
  {
   "cell_type": "code",
   "execution_count": null,
   "metadata": {},
   "outputs": [],
   "source": []
  },
  {
   "cell_type": "markdown",
   "metadata": {},
   "source": [
    "***\n",
    "PLOTTING: Loss & Accuracy\n",
    "***"
   ]
  },
  {
   "cell_type": "code",
   "execution_count": null,
   "metadata": {},
   "outputs": [],
   "source": [
    "# Methods you may need\n",
    "# plt.figure, plt.subplot, plt.plot, plt.xlabel, plt.ylabel, plt.title, plt.legend, plt.show"
   ]
  },
  {
   "cell_type": "markdown",
   "metadata": {},
   "source": [
    "***\n",
    "SAVING\n",
    "***"
   ]
  },
  {
   "cell_type": "code",
   "execution_count": null,
   "metadata": {},
   "outputs": [],
   "source": [
    "width,height = 300,400\n",
    "x = torch.Tensor(1, 3, width, height)\n",
    "with torch.no_grad():\n",
    "    traced_cell = torch.jit.trace(model, (x))\n",
    "model_name = \"./models/Y_model_1.pt\" # CHANGE THIS TO YOUR OWN PATH (most improtatnt step)\n",
    "torch.jit.save(traced_cell, model_name)\n",
    "\n",
    "\n",
    "# torch.save () this is not allowed because it requires class definition before loading for the \n",
    "# model evaluation"
   ]
  }
 ],
 "metadata": {
  "language_info": {
   "name": "python"
  }
 },
 "nbformat": 4,
 "nbformat_minor": 2
}
